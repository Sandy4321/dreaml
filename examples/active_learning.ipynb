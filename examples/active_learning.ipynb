{
 "cells": [
  {
   "cell_type": "markdown",
   "metadata": {},
   "source": [
    "This example demonstrates how an active learning algorithm can be implemented within the reactive framework. In this scenario, we use a margin based active learning algorithm with an SVM classifier. After setting up the problem, the practicitioner can view examples that need to be labeled, set their proper labels, and view the accuracy of the classifier. "
   ]
  },
  {
   "cell_type": "code",
   "execution_count": null,
   "metadata": {
    "collapsed": false
   },
   "outputs": [],
   "source": [
    "import cPickle, gzip\n",
    "f = gzip.open('mnist.pkl.gz', 'rb')\n",
    "train_set, valid_set, test_set = cPickle.load(f)\n",
    "f.close()\n",
    "ytr = train_set[1]\n",
    "filter_tr = (ytr==0)+(ytr==1)\n",
    "X_train = train_set[0][filter_tr,:]\n",
    "y_train = train_set[1][filter_tr,None]\n",
    "y_train = y_train*2-1\n",
    "\n",
    "import dreaml as dm\n",
    "from dreaml.server import start\n",
    "import numpy as np\n",
    "df = dm.DataFrame()\n",
    "start(df)\n",
    "df[\"data/\", \"input/raw/\"].set_matrix(X_train)\n",
    "df[\"data/\", \"input/label/\"].set_matrix(np.zeros(y_train.shape,dtype=int))\n",
    "# number of samples per set\n",
    "m = 50\n",
    "# cutoff \n",
    "b = 1\n",
    "\n",
    "# Label the first set\n",
    "T = df[\"data/\", \"input/label/\"].get_matrix()\n",
    "T[:m,:] = y_train[:m,:]"
   ]
  },
  {
   "cell_type": "markdown",
   "metadata": {},
   "source": [
    "First, we set up the internal algorithm that will learn a weight vector from labeled samples. We use the LinearSVC from Scikitlearn, and write a simple class method that re-apply the algorithm. "
   ]
  },
  {
   "cell_type": "code",
   "execution_count": null,
   "metadata": {
    "collapsed": false
   },
   "outputs": [],
   "source": [
    "from dreaml.dataframe.transform import BatchTransform,ContinuousTransform\n",
    "from sklearn.svm import LinearSVC\n",
    "class SVC(BatchTransform):\n",
    "    mk = m\n",
    "    def func(self,target_df,X_df,y_df):\n",
    "        X = X_df.get_matrix()[:self.mk,:]\n",
    "        y = y_df.get_matrix()[:self.mk,:].squeeze()\n",
    "        \n",
    "        # get all labeled examples\n",
    "        I = y!=0\n",
    "        X0 = X[I,:]\n",
    "        y0 = y[I]\n",
    "        self.svm = LinearSVC()\n",
    "        self.svm.fit(X0,y)\n",
    "        self.target_df = target_df\n",
    "        target_df.set_matrix(self.svm.coef_)\n",
    "    def next_batch(self):\n",
    "        self.mk += m\n",
    "        self.apply(self.target_df)\n",
    "        \n",
    "df[\"weights/\",\"input/raw/\"] = SVC(df[\"data/\", \"input/raw/\"],\n",
    "                                  df[\"data/\", \"input/label/\"])"
   ]
  },
  {
   "cell_type": "markdown",
   "metadata": {},
   "source": [
    "Here, we write the margin based active learning algorithm. It calculates the margins from the weight vector, and labels each example accordingly. "
   ]
  },
  {
   "cell_type": "code",
   "execution_count": null,
   "metadata": {
    "collapsed": false
   },
   "outputs": [],
   "source": [
    "class MarginBasedAL(ContinuousTransform):\n",
    "    def init_func(self,target_df,X_df,y_df,w_df):\n",
    "        target_df.set_matrix(np.zeros(y_df.shape))\n",
    "        self.next_batch = True\n",
    "    def continuous_func(self,target_df,X_df,y_df,w_df):\n",
    "        if self.next_batch:\n",
    "            mk = w_df.T.mk\n",
    "            coef = w_df.T.svm.coef_\n",
    "            intercept = w_df.T.svm.intercept_\n",
    "\n",
    "            X = X_df.get_matrix()\n",
    "            y = y_df.get_matrix()\n",
    "            margins = target_df.get_matrix()\n",
    "            margins[mk:mk+m] = X[mk:mk+m,:].dot(coef.T)+intercept\n",
    "            for j in range(mk,mk+m):\n",
    "                if np.abs(margins[j]) > b:\n",
    "                    y[j] = np.sign(margins[j])\n",
    "                else: \n",
    "                    y[j] = 0\n",
    "            self.mk = mk\n",
    "            self.next_batch = False\n",
    "        if self.mk < w_df.T.mk:\n",
    "            self.next_batch = True\n",
    "        \n",
    "df[\"data/\",\"margins/\"] = MarginBasedAL(df[\"data/\", \"input/raw/\"],\n",
    "                                       df[\"data/\", \"input/label/\"],\n",
    "                                       df[\"weights/\",\"input/raw/\"])"
   ]
  },
  {
   "cell_type": "markdown",
   "metadata": {},
   "source": [
    "We draw any examples that the algorithm needs to be labeled. As soon as the image is labeled, the transformation moves on to the next unlabeled example. The number of the unlabeled example currently being displayed is saved in the target. "
   ]
  },
  {
   "cell_type": "code",
   "execution_count": null,
   "metadata": {
    "collapsed": false
   },
   "outputs": [],
   "source": [
    "from bokeh.plotting import figure\n",
    "from dreaml.dataframe.transform import FigureTransform\n",
    "\n",
    "class DrawUnlabeled(FigureTransform):\n",
    "    def create_figure(self,target_df,X_df,y_df,w_df):\n",
    "        p = figure(x_range=[0,28],y_range=[0,28])\n",
    "        M = np.zeros((28,28))\n",
    "        p.image(image=[M], x=[0], y=[0], dw=[28], dh=[28],name=\"active\")\n",
    "        self.target_df = target_df\n",
    "        self.X_df = X_df\n",
    "        self.y_df = y_df\n",
    "        self.w_df = w_df\n",
    "        return p\n",
    "    def update(self,p):\n",
    "        mk = self.w_df.T.mk\n",
    "        y = self.y_df.get_matrix()\n",
    "        for j in range(mk,mk+m):\n",
    "            if y[j]==0:\n",
    "                break\n",
    "        if y[j]==0:\n",
    "            x = self.X_df.get_matrix()[j,:].reshape(28,28)\n",
    "            rs = p.select(dict(name=\"active\"))\n",
    "            rs[0].data_source.data.update(image=[x])\n",
    "            self.target_df.set_matrix(np.array([[j]]))\n",
    "        else:\n",
    "            print \"next batch\"\n",
    "            self.w_df.T.next_batch()\n",
    "\n",
    "df[\"image/\",\"number/\"] = DrawUnlabeled(df[\"data/\", \"input/raw/\"],\n",
    "                                       df[\"data/\", \"input/label/\"],\n",
    "                                       df[\"weights/\",\"input/raw/\"])\n"
   ]
  },
  {
   "cell_type": "markdown",
   "metadata": {},
   "source": [
    "Finally, we plot the accuracy of the weight vector to track our progress. "
   ]
  },
  {
   "cell_type": "code",
   "execution_count": null,
   "metadata": {
    "collapsed": true
   },
   "outputs": [],
   "source": [
    "yval = valid_set[1]\n",
    "filter_val = (yval==0)+(yval==1)\n",
    "X_valid = valid_set[0][filter_val,:]\n",
    "y_valid = valid_set[1][filter_val]\n",
    "y_valid = y_train*2-1\n",
    "def accuracy():\n",
    "    y_predict = df[\"weights/\",\"input/raw/\"].T.svm.predict(X_valid)\n",
    "    return ([np.mean(y_valid==y_predict)],[df[\"weights/\",\"input/raw/\"].T.mk])\n",
    "df[\"plot/\",\"err/\"] = dm.Plotter(accuracy,\n",
    "                                \"accuracy\",\n",
    "                               legend=[\"accuracy\"])\n",
    "\n",
    "y = df[\"data/\", \"input/label/\"].get_matrix()"
   ]
  },
  {
   "cell_type": "markdown",
   "metadata": {},
   "source": [
    "Here is where the active part of the algorithm comes in. The frontend shows the top-most example that needs to be labeled. This can be done by simply directly setting the value in the label matrix with a -1 for a zero digit, and a 1 for a one digit. After evaluating one of the following lines, the frontend image automatically updates with the next example. "
   ]
  },
  {
   "cell_type": "code",
   "execution_count": null,
   "metadata": {
    "collapsed": false
   },
   "outputs": [],
   "source": [
    "y[df[\"image/\",\"number/\"].get_matrix()[0,0]] = -1"
   ]
  },
  {
   "cell_type": "code",
   "execution_count": null,
   "metadata": {
    "collapsed": false
   },
   "outputs": [],
   "source": [
    "y[df[\"image/\",\"number/\"].get_matrix()[0,0]] = 1"
   ]
  },
  {
   "cell_type": "code",
   "execution_count": null,
   "metadata": {
    "collapsed": true
   },
   "outputs": [],
   "source": []
  }
 ],
 "metadata": {
  "kernelspec": {
   "display_name": "Python 2",
   "language": "python",
   "name": "python2"
  },
  "language_info": {
   "codemirror_mode": {
    "name": "ipython",
    "version": 2
   },
   "file_extension": ".py",
   "mimetype": "text/x-python",
   "name": "python",
   "nbconvert_exporter": "python",
   "pygments_lexer": "ipython2",
   "version": "2.7.10"
  }
 },
 "nbformat": 4,
 "nbformat_minor": 0
}
