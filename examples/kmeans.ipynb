{
 "cells": [
  {
   "cell_type": "code",
   "execution_count": null,
   "metadata": {
    "collapsed": false
   },
   "outputs": [],
   "source": [
    "from scipy.io import loadmat\n",
    "from dreaml import DataFrame as DF\n",
    "from dreaml.server import start\n",
    "import dreaml.transformations as trans\n",
    "import numpy as np\n",
    "\n",
    "data = np.genfromtxt('iris.txt', delimiter=',', dtype=None)\n",
    "n = len(data)\n",
    "X_train = np.zeros((n,4))\n",
    "y_train = np.zeros((n,1))\n",
    "for i in range(n):\n",
    "    if data[i][4]==\"Iris-setosa\":\n",
    "        y_train[i] = 0\n",
    "    elif data[i][4]==\"Iris-versicolor\":\n",
    "        y_train[i] = 1\n",
    "    else: \n",
    "        y_train[i] = 2\n",
    "    for j in range(4):\n",
    "        X_train[i,j] = data[i][j]\n",
    "        \n",
    "df = DF()\n",
    "start(df)\n",
    "df[\"data/\",\"input/raw/\"].set_matrix(X_train)\n",
    "df[\"data/\",\"input/label/\"].set_matrix(y_train)\n",
    "df[\"centroids/\",\"input/raw/\"] = trans.KMPP(df[\"data/\",\"input/raw/\"],3)"
   ]
  },
  {
   "cell_type": "code",
   "execution_count": null,
   "metadata": {
    "collapsed": false
   },
   "outputs": [],
   "source": [
    "from dreaml.dataframe.transform import FigureTransform\n",
    "from bokeh.plotting import figure\n",
    "\n",
    "class ScatterIris(FigureTransform):\n",
    "    def create_figure(self,target_df,i,j):\n",
    "        self.i = i\n",
    "        self.j = j\n",
    "        p = figure(plot_width=400, plot_height=400)\n",
    "        ohe = np.asarray(df[\"centroids/\",\"input/raw/\"].T.ohe.todense())\n",
    "        centroids = df[\"centroids/\",\"input/raw/\"].get_matrix()\n",
    "        self.colors = ['blue','green','red']\n",
    "        self.names = [str(target_df.hash())+s for s in ['Iris-setos','Iris-versicolor','Iris-virginica']]\n",
    "        self.centroid_names = ['centroid'+s for s in self.names]\n",
    "        for k in range(3):\n",
    "            p.circle(x=X_train[ohe[:,k],self.i],y=X_train[ohe[:,k],self.j],color=self.colors[k],name=self.names[k])\n",
    "            p.cross(x=[centroids[k,self.i]],y=[centroids[k,self.j]],color=self.colors[k],name=self.centroid_names[k],size=20)\n",
    "        \n",
    "        return p\n",
    "    def update(self,p):\n",
    "        ohe = np.asarray(df[\"centroids/\",\"input/raw/\"].T.ohe.todense())\n",
    "        centroids = df[\"centroids/\",\"input/raw/\"].get_matrix()\n",
    "        rs = [p.select(dict(name=self.names[i])) for i in range(3)]\n",
    "        cs = [p.select(dict(name=self.centroid_names[i])) for i in range(3)]\n",
    "        for k in range(3):\n",
    "            rs[k][0].data_source.data.update(x=X_train[ohe[:,k],self.i],y=X_train[ohe[:,k],self.j])\n",
    "            cs[k][0].data_source.data.update(x=[centroids[k,self.i]],y=[centroids[k,self.j]])"
   ]
  },
  {
   "cell_type": "code",
   "execution_count": null,
   "metadata": {
    "collapsed": false
   },
   "outputs": [],
   "source": [
    "df[\"test/0\",\"test/0\"] = ScatterIris(1,2)"
   ]
  },
  {
   "cell_type": "code",
   "execution_count": null,
   "metadata": {
    "collapsed": false
   },
   "outputs": [],
   "source": [
    "# ScatterIris(1,2)\n",
    "for i in range(3):\n",
    "    for j in range(i+1,4):\n",
    "        df[\"plot/\"+str(i),\"plot/\"+str(j)] = ScatterIris(i,j)"
   ]
  }
 ],
 "metadata": {
  "kernelspec": {
   "display_name": "Python 2",
   "language": "python",
   "name": "python2"
  },
  "language_info": {
   "codemirror_mode": {
    "name": "ipython",
    "version": 2
   },
   "file_extension": ".py",
   "mimetype": "text/x-python",
   "name": "python",
   "nbconvert_exporter": "python",
   "pygments_lexer": "ipython2",
   "version": "2.7.10"
  }
 },
 "nbformat": 4,
 "nbformat_minor": 0
}
