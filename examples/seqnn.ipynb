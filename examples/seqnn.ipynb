{
 "cells": [
  {
   "cell_type": "code",
   "execution_count": null,
   "metadata": {
    "collapsed": false
   },
   "outputs": [],
   "source": [
    "# Import libraries\n",
    "import cPickle, gzip\n",
    "import numpy as np\n",
    "from time import sleep\n",
    "import dreaml as dm\n",
    "from dreaml.server import start\n",
    "import dreaml.transformations as trans\n",
    "from dreaml.dataframe.transform import ContinuousTransform\n",
    "\n",
    "# Load data from files\n",
    "f = gzip.open('mnist.pkl.gz', 'rb')\n",
    "train_set, valid_set, test_set = cPickle.load(f)\n",
    "f.close()\n",
    "n_train=1000\n",
    "n_test=100\n",
    "X_train = train_set[0][0:n_train,:]\n",
    "y_train = train_set[1][0:n_train,None]\n",
    "X_test = valid_set[0][0:n_train,:]\n",
    "y_test = valid_set[1][0:n_train,None]\n",
    "\n",
    "df = dm.DataFrame()\n",
    "# start(df)\n",
    "\n",
    "df[\"data/train/\", \"input/raw/\"] = dm.DataFrame.from_matrix(X_train)\n",
    "df[\"data/train/\", \"input/label/\"] = dm.DataFrame.from_matrix(y_train)\n",
    "df[\"data/test/\", \"input/raw/\"] = dm.DataFrame.from_matrix(X_test)\n",
    "df[\"data/test/\", \"input/label/\"] = dm.DataFrame.from_matrix(y_test)"
   ]
  },
  {
   "cell_type": "markdown",
   "metadata": {},
   "source": [
    "Here, we construct a simple neural network transform with the ability to add layers and change the optimizer while training. Note that this code is largely identical to the Keras example, and simply wrapped inside the ContinuousTransform class. "
   ]
  },
  {
   "cell_type": "code",
   "execution_count": null,
   "metadata": {
    "collapsed": false,
    "scrolled": false
   },
   "outputs": [],
   "source": [
    "from keras.models import Sequential\n",
    "from keras.layers.core import Dense, Dropout, Activation\n",
    "from keras.optimizers import SGD\n",
    "\n",
    "class SimpleNN(ContinuousTransform):\n",
    "    def init_func(self,target_df,X_train_df,y_train_df,X_test_df,y_test_df):\n",
    "        model=Sequential()\n",
    "        model.add(Dense(64, input_dim=784, init='uniform'))\n",
    "        model.add(Activation('tanh'))\n",
    "        model.add(Dropout(0.5))\n",
    "        model.add(Dense(64,init='uniform'))\n",
    "        model.add(Activation('softmax'))\n",
    "        \n",
    "        self.opt = SGD(lr=0.1,decay=1e-6,momentum=0.9,nesterov=True)\n",
    "        model.compile(loss='categorical_crossentropy', optimizer=self.opt)\n",
    "        \n",
    "        self.model = model\n",
    "        self.target = target_df\n",
    "        self.nb_epoch = 2\n",
    "        self.batch_size = 16\n",
    "        self.verbose = 0\n",
    "        \n",
    "        target_df.set_matrix(0)\n",
    "        \n",
    "    def continuous_func(self,target_df,X_train_df,y_train_df,X_test_df,y_test_df):\n",
    "        self.model.fit(X_train_df.get_matrix(),\n",
    "                       y_train_df.get_matrix(),\n",
    "                       nb_epoch=self.nb_epoch,\n",
    "                       batch_size=self.batch_size,\n",
    "                       verbose=self.verbose)\n",
    "        score = self.model.evaluate(X_test_df.get_matrix(),\n",
    "                                    y_test_df.get_matrix(),\n",
    "                                    batch_size=self.batch_size,\n",
    "                                    verbose=self.verbose)\n",
    "        target_df.set_matrix(np.array([[score]]))\n",
    "        \n",
    "    def add_layers(self,layers,idx):\n",
    "        self.target.stop()\n",
    "        while len(self.model.layers) > idx:\n",
    "            self.model.layers.pop()\n",
    "        for l in layers:\n",
    "            self.model.add(l)\n",
    "        self.model.compile(loss='categorical_crossentropy', optimizer=self.opt)\n",
    "        self.target.go()\n",
    "        \n",
    "    def set_optimizer(self,opt):\n",
    "        self.target.stop()\n",
    "        self.opt = opt\n",
    "        self.model.compile(loss='categorical_crossentropy', optimizer=self.opt)\n",
    "        self.target.go()\n",
    "    \n",
    "df[\"output/\",\"score/\"] = SimpleNN(df[\"data/train/\",\"input/raw/\"],\n",
    "                                  df[\"data/train/\",\"input/label/\"],\n",
    "                                  df[\"data/test/\",\"input/raw/\"],\n",
    "                                  df[\"data/test/\",\"input/label/\"])"
   ]
  },
  {
   "cell_type": "markdown",
   "metadata": {},
   "source": [
    "The class allows use to replace all layers after a given index in the model. In this example, we replace the last layer (a single softmax activation) with a series of 3 layers, followed by a final softmax activation. "
   ]
  },
  {
   "cell_type": "code",
   "execution_count": null,
   "metadata": {
    "collapsed": false
   },
   "outputs": [],
   "source": [
    "new_layers = [\n",
    "    Activation('tanh'),\n",
    "    Dropout(0.5),\n",
    "    Dense(10,init='uniform'),\n",
    "    Activation('softmax')\n",
    "]\n",
    "df[\"output/\",\"score/\"].T.add_layers(new_layers,4)"
   ]
  },
  {
   "cell_type": "markdown",
   "metadata": {},
   "source": [
    "We can also change the optimizer being used. Here we adjust the learning rate and momentum, and replace the previous optimizer. "
   ]
  },
  {
   "cell_type": "code",
   "execution_count": null,
   "metadata": {
    "collapsed": true
   },
   "outputs": [],
   "source": [
    "new_opt = SGD(lr=0.01,decay=1e-6,momentum=0.8,nesterov=True)\n",
    "df[\"output/\",\"score/\"].T.set_optimizer(new_opt)"
   ]
  },
  {
   "cell_type": "markdown",
   "metadata": {
    "collapsed": false
   },
   "source": [
    "Lastly, we can directly any parameters we've exposed in the class. In this case, we have number of epochs and batch size, along with a verbose output parameter."
   ]
  },
  {
   "cell_type": "code",
   "execution_count": null,
   "metadata": {
    "collapsed": true
   },
   "outputs": [],
   "source": [
    "df[\"output/\",\"score/\"].T.nb_epoch = 4\n",
    "df[\"output/\",\"score/\"].T.batch_size = 32\n",
    "df[\"output/\",\"score/\"].T.verbose = 1"
   ]
  }
 ],
 "metadata": {
  "kernelspec": {
   "display_name": "Python 2",
   "language": "python",
   "name": "python2"
  },
  "language_info": {
   "codemirror_mode": {
    "name": "ipython",
    "version": 2
   },
   "file_extension": ".py",
   "mimetype": "text/x-python",
   "name": "python",
   "nbconvert_exporter": "python",
   "pygments_lexer": "ipython2",
   "version": "2.7.10"
  }
 },
 "nbformat": 4,
 "nbformat_minor": 0
}
